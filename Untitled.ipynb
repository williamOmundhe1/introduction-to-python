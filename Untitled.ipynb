{
 "cells": [
  {
   "cell_type": "code",
   "execution_count": 4,
   "id": "97aa0c32-640b-4d15-9f63-c329df89ee3b",
   "metadata": {},
   "outputs": [
    {
     "name": "stdout",
     "output_type": "stream",
     "text": [
      "hello world\n"
     ]
    }
   ],
   "source": [
    "\n",
    "\"\"\"This is an indented block of code\n",
    "\"\"\"\n",
    "print(\"hello world\")"
   ]
  },
  {
   "cell_type": "code",
   "execution_count": 5,
   "id": "0944639f-d88f-4313-be05-cb85541104ce",
   "metadata": {},
   "outputs": [],
   "source": [
    "x=5"
   ]
  },
  {
   "cell_type": "code",
   "execution_count": 6,
   "id": "fffa5f36-cacc-4cf6-849e-97b316d60e8f",
   "metadata": {},
   "outputs": [
    {
     "ename": "NameError",
     "evalue": "name 'Y' is not defined",
     "output_type": "error",
     "traceback": [
      "\u001b[1;31m---------------------------------------------------------------------------\u001b[0m",
      "\u001b[1;31mNameError\u001b[0m                                 Traceback (most recent call last)",
      "Cell \u001b[1;32mIn[6], line 1\u001b[0m\n\u001b[1;32m----> 1\u001b[0m Y\n",
      "\u001b[1;31mNameError\u001b[0m: name 'Y' is not defined"
     ]
    }
   ],
   "source": [
    "Y"
   ]
  },
  {
   "cell_type": "code",
   "execution_count": 7,
   "id": "d8894c1c-0c7a-42db-bc46-00309d920cba",
   "metadata": {},
   "outputs": [
    {
     "data": {
      "text/plain": [
       "5"
      ]
     },
     "execution_count": 7,
     "metadata": {},
     "output_type": "execute_result"
    }
   ],
   "source": [
    "x"
   ]
  },
  {
   "cell_type": "code",
   "execution_count": 8,
   "id": "526a57f7-da24-45db-8ce8-460dfb973677",
   "metadata": {},
   "outputs": [],
   "source": [
    "x=\"hello\""
   ]
  },
  {
   "cell_type": "code",
   "execution_count": 9,
   "id": "5952fe8d-c950-4e48-b430-bbd037b185ea",
   "metadata": {},
   "outputs": [
    {
     "data": {
      "text/plain": [
       "'hello'"
      ]
     },
     "execution_count": 9,
     "metadata": {},
     "output_type": "execute_result"
    }
   ],
   "source": [
    "x"
   ]
  },
  {
   "cell_type": "code",
   "execution_count": 10,
   "id": "7397f804-c36e-4bd8-b2a9-3312a380d68a",
   "metadata": {},
   "outputs": [],
   "source": [
    "name=\"Harry\"\n",
    "name\n",
    "y=6"
   ]
  },
  {
   "cell_type": "code",
   "execution_count": 11,
   "id": "73330a8c-7afb-40f4-b120-46f4a2afc812",
   "metadata": {},
   "outputs": [
    {
     "ename": "SyntaxError",
     "evalue": "invalid syntax (3387856896.py, line 1)",
     "output_type": "error",
     "traceback": [
      "\u001b[1;36m  Cell \u001b[1;32mIn[11], line 1\u001b[1;36m\u001b[0m\n\u001b[1;33m    is active\u001b[0m\n\u001b[1;37m    ^\u001b[0m\n\u001b[1;31mSyntaxError\u001b[0m\u001b[1;31m:\u001b[0m invalid syntax\n"
     ]
    }
   ],
   "source": [
    "is active"
   ]
  },
  {
   "cell_type": "code",
   "execution_count": 12,
   "id": "dbfcdedb-21be-4632-ba0f-5dfcc58432bb",
   "metadata": {},
   "outputs": [
    {
     "ename": "SyntaxError",
     "evalue": "invalid syntax (142412837.py, line 1)",
     "output_type": "error",
     "traceback": [
      "\u001b[1;36m  Cell \u001b[1;32mIn[12], line 1\u001b[1;36m\u001b[0m\n\u001b[1;33m    is ACTIVE\u001b[0m\n\u001b[1;37m    ^\u001b[0m\n\u001b[1;31mSyntaxError\u001b[0m\u001b[1;31m:\u001b[0m invalid syntax\n"
     ]
    }
   ],
   "source": [
    "is ACTIVE"
   ]
  },
  {
   "cell_type": "code",
   "execution_count": 14,
   "id": "18e5874f-cfef-47e9-b0ed-7834bc73eb7f",
   "metadata": {},
   "outputs": [],
   "source": [
    "isACTIVE = True"
   ]
  },
  {
   "cell_type": "code",
   "execution_count": 15,
   "id": "a6652986-82ce-45fa-bdd2-88023d91b013",
   "metadata": {},
   "outputs": [],
   "source": [
    "x=y=z=1"
   ]
  },
  {
   "cell_type": "code",
   "execution_count": 18,
   "id": "116d4c1f-7596-47a0-ad63-226640afeb80",
   "metadata": {},
   "outputs": [
    {
     "ename": "NameError",
     "evalue": "name 'cat' is not defined",
     "output_type": "error",
     "traceback": [
      "\u001b[1;31m---------------------------------------------------------------------------\u001b[0m",
      "\u001b[1;31mNameError\u001b[0m                                 Traceback (most recent call last)",
      "Cell \u001b[1;32mIn[18], line 1\u001b[0m\n\u001b[1;32m----> 1\u001b[0m x,y,z\u001b[38;5;241m=\u001b[39m\u001b[38;5;241m1\u001b[39m,\u001b[38;5;241m2.34\u001b[39m,cat\n",
      "\u001b[1;31mNameError\u001b[0m: name 'cat' is not defined"
     ]
    }
   ],
   "source": [
    "x,y,z=1,2.34,cat"
   ]
  },
  {
   "cell_type": "code",
   "execution_count": 19,
   "id": "1d5adc44-f3b4-4009-b00c-7dd2aa7e7e25",
   "metadata": {},
   "outputs": [
    {
     "data": {
      "text/plain": [
       "1"
      ]
     },
     "execution_count": 19,
     "metadata": {},
     "output_type": "execute_result"
    }
   ],
   "source": [
    "z"
   ]
  },
  {
   "cell_type": "code",
   "execution_count": 2,
   "id": "9e598f9e-b3aa-4b4e-b395-83740b5b5db2",
   "metadata": {},
   "outputs": [
    {
     "data": {
      "text/plain": [
       "int"
      ]
     },
     "execution_count": 2,
     "metadata": {},
     "output_type": "execute_result"
    }
   ],
   "source": [
    "y=3\n",
    "type(y)"
   ]
  },
  {
   "cell_type": "markdown",
   "id": "828518e5-a2d4-4d27-8ae6-45fae629623f",
   "metadata": {},
   "source": [
    "name =\"Akoth\"\n",
    "type (name)"
   ]
  },
  {
   "cell_type": "markdown",
   "id": "45cc549c-8ace-4176-ab20-dfaa4596db10",
   "metadata": {},
   "source": [
    "5-3 "
   ]
  },
  {
   "cell_type": "code",
   "execution_count": 3,
   "id": "8389245e-055a-4bcf-8a59-add6630a8f0a",
   "metadata": {},
   "outputs": [],
   "source": [
    "a =9\n",
    "b =4"
   ]
  },
  {
   "cell_type": "code",
   "execution_count": 4,
   "id": "eafa2eed-c65a-492a-86a4-e53e9c107023",
   "metadata": {},
   "outputs": [
    {
     "data": {
      "text/plain": [
       "13"
      ]
     },
     "execution_count": 4,
     "metadata": {},
     "output_type": "execute_result"
    }
   ],
   "source": [
    "a+b"
   ]
  },
  {
   "cell_type": "code",
   "execution_count": 5,
   "id": "55e14eb1-8d43-458b-951f-558406d1681b",
   "metadata": {},
   "outputs": [
    {
     "data": {
      "text/plain": [
       "36"
      ]
     },
     "execution_count": 5,
     "metadata": {},
     "output_type": "execute_result"
    }
   ],
   "source": [
    "a*b"
   ]
  },
  {
   "cell_type": "code",
   "execution_count": 7,
   "id": "4d039a65-504b-40b5-9056-51d23bbce9de",
   "metadata": {},
   "outputs": [
    {
     "data": {
      "text/plain": [
       "5"
      ]
     },
     "execution_count": 7,
     "metadata": {},
     "output_type": "execute_result"
    }
   ],
   "source": [
    "a-b"
   ]
  },
  {
   "cell_type": "code",
   "execution_count": 11,
   "id": "71048d50-1d13-46d6-aca3-2a9766324de5",
   "metadata": {},
   "outputs": [],
   "source": [
    "x =6\n",
    "y =5\n",
    "x = x*y"
   ]
  },
  {
   "cell_type": "code",
   "execution_count": 14,
   "id": "12d71a4a-423f-4acf-8ed4-77533914674e",
   "metadata": {},
   "outputs": [
    {
     "ename": "NameError",
     "evalue": "name 'first' is not defined",
     "output_type": "error",
     "traceback": [
      "\u001b[1;31m---------------------------------------------------------------------------\u001b[0m",
      "\u001b[1;31mNameError\u001b[0m                                 Traceback (most recent call last)",
      "Cell \u001b[1;32mIn[14], line 3\u001b[0m\n\u001b[0;32m      1\u001b[0m First \u001b[38;5;241m=\u001b[39m\u001b[38;5;241m10\u001b[39m\n\u001b[0;32m      2\u001b[0m Second \u001b[38;5;241m=\u001b[39m\u001b[38;5;241m7\u001b[39m\n\u001b[1;32m----> 3\u001b[0m first \u001b[38;5;241m<\u001b[39m Second\n",
      "\u001b[1;31mNameError\u001b[0m: name 'first' is not defined"
     ]
    }
   ],
   "source": [
    "First =10\n",
    "Second =7\n",
    "first < Second"
   ]
  },
  {
   "cell_type": "code",
   "execution_count": null,
   "id": "23cf3e44-d4e2-4cdc-8120-5b063b11ed80",
   "metadata": {},
   "outputs": [],
   "source": []
  },
  {
   "cell_type": "code",
   "execution_count": null,
   "id": "137fcc5e-534c-4094-9b4b-4f34e4bfb0c3",
   "metadata": {},
   "outputs": [],
   "source": []
  }
 ],
 "metadata": {
  "kernelspec": {
   "display_name": "Python 3 (ipykernel)",
   "language": "python",
   "name": "python3"
  },
  "language_info": {
   "codemirror_mode": {
    "name": "ipython",
    "version": 3
   },
   "file_extension": ".py",
   "mimetype": "text/x-python",
   "name": "python",
   "nbconvert_exporter": "python",
   "pygments_lexer": "ipython3",
   "version": "3.12.4"
  }
 },
 "nbformat": 4,
 "nbformat_minor": 5
}
