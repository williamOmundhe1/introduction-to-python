{
 "cells": [
  {
   "cell_type": "code",
   "execution_count": 1,
   "id": "895e8f38-0253-4bf9-b748-29150ca9ce01",
   "metadata": {},
   "outputs": [],
   "source": [
    "import pandas as pd\n"
   ]
  },
  {
   "cell_type": "code",
   "execution_count": null,
   "id": "31b3eb2d-88ab-424e-b5c8-8bf0b7f75d2a",
   "metadata": {},
   "outputs": [],
   "source": [
    "filepath=\"carsales\""
   ]
  }
 ],
 "metadata": {
  "kernelspec": {
   "display_name": "Python 3 (ipykernel)",
   "language": "python",
   "name": "python3"
  },
  "language_info": {
   "codemirror_mode": {
    "name": "ipython",
    "version": 3
   },
   "file_extension": ".py",
   "mimetype": "text/x-python",
   "name": "python",
   "nbconvert_exporter": "python",
   "pygments_lexer": "ipython3",
   "version": "3.12.4"
  }
 },
 "nbformat": 4,
 "nbformat_minor": 5
}
