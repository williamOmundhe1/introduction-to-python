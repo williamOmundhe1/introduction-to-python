{
 "cells": [
  {
   "cell_type": "code",
   "execution_count": 2,
   "id": "aeee678b-3aeb-47a9-8800-bb3ea07fce80",
   "metadata": {},
   "outputs": [
    {
     "data": {
      "text/plain": [
       "(5, 10, 15, 20, 25, 30)"
      ]
     },
     "execution_count": 2,
     "metadata": {},
     "output_type": "execute_result"
    }
   ],
   "source": [
    "write a loop that recieves 5 scores from the key board and display the range of 5 values\n"
   ]
  },
  {
   "cell_type": "code",
   "execution_count": 8,
   "id": "7fb922e4-fc83-4e79-a951-b5e876ff1a4b",
   "metadata": {
    "scrolled": true
   },
   "outputs": [
    {
     "name": "stdin",
     "output_type": "stream",
     "text": [
      "Enter scores 6\n",
      "Enter scores 8\n",
      "Enter scores 5\n",
      "Enter scores 9\n",
      "Enter scores 4\n"
     ]
    },
    {
     "name": "stdout",
     "output_type": "stream",
     "text": [
      "32\n"
     ]
    }
   ],
   "source": [
    "total =0\n",
    "for x in range(5):\n",
    "    x =int(input(\"Enter scores\"))\n",
    "    total +=x\n",
    "print (total)"
   ]
  },
  {
   "cell_type": "code",
   "execution_count": null,
   "id": "0b2b08b8-6224-4357-bb7d-60474f6ac46e",
   "metadata": {},
   "outputs": [],
   "source": [
    "count = 0\n",
    "while count <4:\n",
    "    x =int(int(\"EnterAge\"))\n",
    "    total +=x\n",
    "    count +=1\n",
    "print(total/count)\n"
   ]
  }
 ],
 "metadata": {
  "kernelspec": {
   "display_name": "Python 3 (ipykernel)",
   "language": "python",
   "name": "python3"
  },
  "language_info": {
   "codemirror_mode": {
    "name": "ipython",
    "version": 3
   },
   "file_extension": ".py",
   "mimetype": "text/x-python",
   "name": "python",
   "nbconvert_exporter": "python",
   "pygments_lexer": "ipython3",
   "version": "3.12.4"
  }
 },
 "nbformat": 4,
 "nbformat_minor": 5
}
